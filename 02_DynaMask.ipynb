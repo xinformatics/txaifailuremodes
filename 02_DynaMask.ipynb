{
 "cells": [
  {
   "cell_type": "code",
   "execution_count": 1,
   "id": "95a8d223-c388-4696-9568-b72f244e7941",
   "metadata": {},
   "outputs": [],
   "source": [
    "import sys"
   ]
  },
  {
   "cell_type": "code",
   "execution_count": 2,
   "id": "1c10e8a4-872e-4c9e-8cd0-585e8869ec3a",
   "metadata": {},
   "outputs": [],
   "source": [
    "sys.path.insert(0, \"/home/shashank/Desktop/todynet/dtw_tsl_stuff/txai_old\")"
   ]
  },
  {
   "cell_type": "code",
   "execution_count": 3,
   "id": "f53eea5e-d0b1-4986-be54-14efd588b614",
   "metadata": {},
   "outputs": [],
   "source": [
    "# import tint"
   ]
  },
  {
   "cell_type": "code",
   "execution_count": 4,
   "id": "d6ee8542-e7e2-4fb7-a9df-01fb9634cc45",
   "metadata": {},
   "outputs": [],
   "source": [
    "from matplotlib import rcParams\n",
    "from matplotlib import font_manager as fm\n",
    "from matplotlib.colors import ListedColormap\n",
    "from matplotlib.patches import Patch\n",
    "import seaborn as sns"
   ]
  },
  {
   "cell_type": "code",
   "execution_count": 5,
   "id": "68612918-88c0-4f96-84a7-8a2f6f3fc169",
   "metadata": {},
   "outputs": [],
   "source": [
    "# Manually specify the font path\n",
    "font_path = \"/usr/share/fonts/truetype/msttcorefonts/times.ttf\"  # Update if necessary\n",
    "times_new_roman = fm.FontProperties(fname=font_path)\n",
    "\n",
    "# Set the font globally\n",
    "rcParams['font.family'] = times_new_roman.get_name()"
   ]
  },
  {
   "cell_type": "code",
   "execution_count": 6,
   "id": "4f3865ec-0c7f-4bad-bcfc-4eb3f3b35aa4",
   "metadata": {},
   "outputs": [],
   "source": [
    "from tint.attr import DynaMask, ExtremalMask"
   ]
  },
  {
   "cell_type": "markdown",
   "id": "db551700-1dd1-4a3f-9e5c-cac8cb8fcc4c",
   "metadata": {},
   "source": [
    "## load model"
   ]
  },
  {
   "cell_type": "code",
   "execution_count": 7,
   "id": "a7bb8ccf-c333-4a62-a091-6456dbcccd72",
   "metadata": {},
   "outputs": [],
   "source": [
    "import torch\n",
    "import torch.nn as nn\n",
    "import torch.optim as optim\n",
    "import torch.nn.functional as F\n",
    "from torch.utils.data import Dataset, DataLoader\n",
    "import matplotlib.pyplot as plt\n",
    "import seaborn as sns\n",
    "import numpy as np\n",
    "\n",
    "from tqdm.notebook import tqdm\n",
    "from sklearn.metrics import accuracy_score, precision_score, recall_score, f1_score, classification_report, matthews_corrcoef, roc_auc_score, precision_recall_curve, auc\n",
    "\n",
    "import os\n",
    "import random\n",
    "import gc"
   ]
  },
  {
   "cell_type": "code",
   "execution_count": 8,
   "id": "3c246462-3662-41ec-9f65-20bbb0eec826",
   "metadata": {},
   "outputs": [],
   "source": [
    "# from einops import rearrange, repeat\n",
    "# import math\n",
    "\n",
    "\n",
    "# class DSW_embedding(nn.Module):\n",
    "#     def __init__(self, seg_len, d_model):\n",
    "#         super(DSW_embedding, self).__init__()\n",
    "#         self.seg_len = seg_len\n",
    "#         self.d_model = d_model\n",
    "#         self.linear = nn.Linear(seg_len * 231, d_model)\n",
    "\n",
    "#     def forward(self, x):\n",
    "#         batch, ts_len, ts_dim = x.shape\n",
    "#         pad_len = (self.seg_len - (ts_len % self.seg_len)) % self.seg_len\n",
    "#         if pad_len != 0:\n",
    "#             x = torch.cat([x, torch.zeros(batch, pad_len, ts_dim).to(x.device)], dim=1)\n",
    "#         seg_num = (ts_len + pad_len) // self.seg_len\n",
    "#         x_segment = rearrange(x, 'b (seg_num seg_len) d -> b seg_num (seg_len d)', seg_len=self.seg_len)\n",
    "#         x_embed = self.linear(x_segment)\n",
    "#         # Reshape to (batch, seg_num * seg_len, d_model)\n",
    "#         x_embed = x_embed.unsqueeze(2).repeat(1, 1, self.seg_len, 1)\n",
    "#         x_embed = x_embed.view(batch, -1, self.d_model)\n",
    "#         return x_embed[:, :ts_len, :]  # Remove the padding\n",
    "\n",
    "# class SegMerging(nn.Module):\n",
    "#     def __init__(self, d_model, win_size, norm_layer=nn.LayerNorm):\n",
    "#         super().__init__()\n",
    "#         self.d_model = d_model\n",
    "#         self.win_size = win_size\n",
    "#         self.linear_trans = nn.Linear(d_model, d_model)\n",
    "#         self.norm = norm_layer(d_model)\n",
    "\n",
    "#     def forward(self, x):\n",
    "#         x = self.norm(x)\n",
    "#         x = self.linear_trans(x)\n",
    "#         return x\n",
    "\n",
    "# class AttentionLayer(nn.Module):\n",
    "#     def __init__(self, d_model, n_heads, dropout=0.1):\n",
    "#         super(AttentionLayer, self).__init__()\n",
    "#         self.n_heads = n_heads\n",
    "#         self.d_model = d_model\n",
    "#         self.d_k = d_model // n_heads\n",
    "\n",
    "#         self.qkv_proj = nn.Linear(d_model, 3 * d_model)\n",
    "#         self.o_proj = nn.Linear(d_model, d_model)\n",
    "#         self.dropout = nn.Dropout(dropout)\n",
    "\n",
    "#     def forward(self, q, k, v):\n",
    "#         B, L, _ = q.size()\n",
    "#         qkv = self.qkv_proj(q).chunk(3, dim=-1)\n",
    "#         q, k, v = [rearrange(x, 'b l (h d) -> b h l d', h=self.n_heads) for x in qkv]\n",
    "\n",
    "#         scores = torch.einsum('bhld,bhmd->bhlm', q, k) / math.sqrt(self.d_k)\n",
    "#         attn = scores.softmax(dim=-1)\n",
    "#         attn = self.dropout(attn)\n",
    "\n",
    "#         context = torch.einsum('bhlm,bhmd->bhld', attn, v)\n",
    "#         context = rearrange(context, 'b h l d -> b l (h d)')\n",
    "#         output = self.o_proj(context)\n",
    "#         return output\n",
    "\n",
    "# class CrossEncoder(nn.Module):\n",
    "#     def __init__(self, d_model, n_heads, d_ff, block_depth, dropout, factor, e_blocks, win_size):\n",
    "#         super().__init__()\n",
    "#         self.time_attention = AttentionLayer(d_model, n_heads, dropout)\n",
    "#         self.dim_sender = AttentionLayer(d_model, n_heads, dropout)\n",
    "#         self.dim_receiver = AttentionLayer(d_model, n_heads, dropout)\n",
    "#         self.router = nn.Parameter(torch.randn(e_blocks, factor, d_model))\n",
    "        \n",
    "#         self.dropout = nn.Dropout(dropout)\n",
    "#         self.norm1 = nn.LayerNorm(d_model)\n",
    "#         self.norm2 = nn.LayerNorm(d_model)\n",
    "#         self.norm3 = nn.LayerNorm(d_model)\n",
    "#         self.norm4 = nn.LayerNorm(d_model)\n",
    "        \n",
    "#         self.MLP1 = nn.Sequential(nn.Linear(d_model, d_ff),\n",
    "#                                   nn.GELU(),\n",
    "#                                   nn.Linear(d_ff, d_model))\n",
    "#         self.MLP2 = nn.Sequential(nn.Linear(d_model, d_ff),\n",
    "#                                   nn.GELU(),\n",
    "#                                   nn.Linear(d_ff, d_model))\n",
    "\n",
    "#     def forward(self, x):\n",
    "#         batch, seq_len, d_model = x.shape\n",
    "#         time_enc = self.time_attention(x, x, x)\n",
    "#         dim_in = x + self.dropout(time_enc)\n",
    "#         dim_in = self.norm1(dim_in)\n",
    "#         dim_in = dim_in + self.dropout(self.MLP1(dim_in))\n",
    "#         dim_in = self.norm2(dim_in)\n",
    "\n",
    "#         dim_send = dim_in\n",
    "#         batch_router = repeat(self.router, 'e_blocks factor d_model -> (repeat e_blocks) factor d_model', repeat=batch)\n",
    "#         dim_buffer = self.dim_sender(batch_router, dim_send, dim_send)\n",
    "#         dim_receive = self.dim_receiver(dim_send, dim_buffer, dim_buffer)\n",
    "#         dim_enc = dim_send + self.dropout(dim_receive)\n",
    "#         dim_enc = self.norm3(dim_enc)\n",
    "#         dim_enc = dim_enc + self.dropout(self.MLP2(dim_enc))\n",
    "#         dim_enc = self.norm4(dim_enc)\n",
    "\n",
    "#         return dim_enc\n",
    "\n",
    "# class EncoderOnlyCrossFormer(nn.Module):\n",
    "#     def __init__(self, seg_len, d_model, num_classes, num_layers, win_size, n_heads, d_ff, e_blocks, dropout=0.1):\n",
    "#         super(EncoderOnlyCrossFormer, self).__init__()\n",
    "        \n",
    "#         # Embedding layer\n",
    "#         self.embedding = DSW_embedding(seg_len, d_model)\n",
    "        \n",
    "#         # Encoder layers\n",
    "#         self.encoders = nn.ModuleList([\n",
    "#             CrossEncoder(d_model=d_model, n_heads=n_heads, d_ff=d_ff, block_depth=1, dropout=dropout, factor=5, e_blocks=e_blocks, win_size=win_size) for _ in range(num_layers)\n",
    "#         ])\n",
    "        \n",
    "#         # Segment merging layer\n",
    "#         self.seg_merge = SegMerging(d_model, win_size)\n",
    "        \n",
    "#         # Classification head\n",
    "#         self.logit = nn.Linear(d_model, num_classes)\n",
    "#         self.classifier = nn.Sequential(\n",
    "#             nn.LayerNorm(d_model),\n",
    "#             self.logit\n",
    "#         )\n",
    "        \n",
    "#     def forward(self, x):\n",
    "#         # Apply embedding\n",
    "#         x_embed = self.embedding(x)\n",
    "        \n",
    "#         # Pass through each encoder layer\n",
    "#         for encoder in self.encoders:\n",
    "#             x_embed = encoder(x_embed)\n",
    "        \n",
    "#         # Merge segments\n",
    "#         x_merged = self.seg_merge(x_embed)\n",
    "        \n",
    "#         # Classification head\n",
    "#         logits = self.classifier(x_merged)\n",
    "        \n",
    "#         return logits"
   ]
  },
  {
   "cell_type": "markdown",
   "id": "66ad5fe4-4300-40a4-a1be-9e6ff357edaf",
   "metadata": {},
   "source": [
    "## causal crossformer"
   ]
  },
  {
   "cell_type": "code",
   "execution_count": 9,
   "id": "c1342115-c8f1-4db7-a058-5242d9b720c9",
   "metadata": {},
   "outputs": [],
   "source": [
    "from einops import rearrange, repeat\n",
    "import math\n",
    "\n",
    "\n",
    "class DSW_embedding(nn.Module):\n",
    "    def __init__(self, seg_len, d_model):\n",
    "        super(DSW_embedding, self).__init__()\n",
    "        self.seg_len = seg_len\n",
    "        self.d_model = d_model\n",
    "        self.linear = nn.Linear(seg_len * 231, d_model)\n",
    "\n",
    "    def forward(self, x):\n",
    "        batch, ts_len, ts_dim = x.shape\n",
    "        pad_len = (self.seg_len - (ts_len % self.seg_len)) % self.seg_len\n",
    "        if pad_len != 0:\n",
    "            x = torch.cat([x, torch.zeros(batch, pad_len, ts_dim).to(x.device)], dim=1)\n",
    "        seg_num = (ts_len + pad_len) // self.seg_len\n",
    "        x_segment = rearrange(x, 'b (seg_num seg_len) d -> b seg_num (seg_len d)', seg_len=self.seg_len)\n",
    "        x_embed = self.linear(x_segment)\n",
    "        x_embed = x_embed.unsqueeze(2).repeat(1, 1, self.seg_len, 1)\n",
    "        x_embed = x_embed.view(batch, -1, self.d_model)\n",
    "        return x_embed[:, :ts_len, :]\n",
    "\n",
    "\n",
    "class SegMerging(nn.Module):\n",
    "    def __init__(self, d_model, win_size, norm_layer=nn.LayerNorm):\n",
    "        super().__init__()\n",
    "        self.d_model = d_model\n",
    "        self.win_size = win_size\n",
    "        self.linear_trans = nn.Linear(d_model, d_model)\n",
    "        self.norm = norm_layer(d_model)\n",
    "\n",
    "    def forward(self, x):\n",
    "        \n",
    "        x = self.norm(x)\n",
    "        x = self.linear_trans(x)\n",
    "        return x\n",
    "\n",
    "class AttentionLayer(nn.Module):\n",
    "    def __init__(self, d_model, n_heads, dropout=0.1):\n",
    "        super().__init__()\n",
    "        self.n_heads = n_heads\n",
    "        self.d_model = d_model\n",
    "        self.d_k = d_model // n_heads\n",
    "\n",
    "        self.qkv_proj = nn.Linear(d_model, 3 * d_model)\n",
    "        self.o_proj = nn.Linear(d_model, d_model)\n",
    "        self.dropout = nn.Dropout(dropout)\n",
    "\n",
    "    def forward(self, q, k, v):\n",
    "        B, Lq, _ = q.size()\n",
    "        _, Lk, _ = k.size()\n",
    "\n",
    "        qkv = self.qkv_proj(q).chunk(3, dim=-1)\n",
    "        q, k, v = [rearrange(x, 'b l (h d) -> b h l d', h=self.n_heads) for x in qkv]\n",
    "\n",
    "        scores = torch.einsum('bhqd,bhkd->bhqk', q, k) / math.sqrt(self.d_k)\n",
    "\n",
    "        if Lq == Lk:\n",
    "            causal_mask = torch.tril(torch.ones(Lq, Lk, device=q.device)).unsqueeze(0).unsqueeze(0)\n",
    "            scores = scores.masked_fill(causal_mask == 0, float('-inf'))\n",
    "\n",
    "        attn = self.dropout(scores.softmax(dim=-1))\n",
    "\n",
    "        context = torch.einsum('bhqk,bhkd->bhqd', attn, v)\n",
    "        context = rearrange(context, 'b h l d -> b l (h d)')\n",
    "        return self.o_proj(context)\n",
    "\n",
    "class CrossEncoder(nn.Module):\n",
    "    def __init__(self, d_model, n_heads, d_ff, dropout, factor, e_blocks):\n",
    "        super().__init__()\n",
    "        self.time_attention = AttentionLayer(d_model, n_heads, dropout)\n",
    "        self.dim_sender = AttentionLayer(d_model, n_heads, dropout)\n",
    "        self.dim_receiver = AttentionLayer(d_model, n_heads, dropout)\n",
    "\n",
    "        self.router = nn.Parameter(torch.randn(e_blocks, factor, d_model))\n",
    "\n",
    "        self.dropout = nn.Dropout(dropout)\n",
    "        self.norm1 = nn.LayerNorm(d_model)\n",
    "        self.norm2 = nn.LayerNorm(d_model)\n",
    "        self.norm3 = nn.LayerNorm(d_model)\n",
    "        self.norm4 = nn.LayerNorm(d_model)\n",
    "\n",
    "        self.MLP1 = nn.Sequential(nn.Linear(d_model, d_ff), nn.GELU(), nn.Linear(d_ff, d_model))\n",
    "        self.MLP2 = nn.Sequential(nn.Linear(d_model, d_ff), nn.GELU(), nn.Linear(d_ff, d_model))\n",
    "\n",
    "    def forward(self, x):\n",
    "        time_enc = self.time_attention(x, x, x)\n",
    "        x = x + self.dropout(time_enc)\n",
    "        x = self.norm1(x)\n",
    "        x = x + self.dropout(self.MLP1(x))\n",
    "        x = self.norm2(x)\n",
    "\n",
    "        batch_router = repeat(self.router, 'e_blocks factor d_model -> (repeat e_blocks) factor d_model', repeat=x.size(0))\n",
    "\n",
    "        dim_buffer = self.dim_sender(batch_router, x, x)\n",
    "        dim_receive = self.dim_receiver(x, dim_buffer, dim_buffer)\n",
    "\n",
    "        x = x + self.dropout(dim_receive)\n",
    "        x = self.norm3(x)\n",
    "        x = x + self.dropout(self.MLP2(x))\n",
    "        x = self.norm4(x)\n",
    "\n",
    "        return x\n",
    "\n",
    "class EncoderOnlyCrossFormer(nn.Module):\n",
    "    def __init__(self, seg_len, d_model, num_classes, num_layers, n_heads, d_ff, e_blocks, dropout=0.1, win_size=1):\n",
    "        super().__init__()\n",
    "        self.embedding = DSW_embedding(seg_len, d_model)\n",
    "        \n",
    "        self.encoders = nn.ModuleList([\n",
    "            CrossEncoder(d_model, n_heads, d_ff, dropout, factor=5, e_blocks=e_blocks)\n",
    "            for _ in range(num_layers)\n",
    "        ])\n",
    "        \n",
    "        # Include the segment merging layer\n",
    "        self.seg_merge = SegMerging(d_model, win_size)\n",
    "        \n",
    "        # Classification head structure as in the original model\n",
    "        self.logit = nn.Linear(d_model, num_classes)\n",
    "        self.classifier = nn.Sequential(\n",
    "            nn.LayerNorm(d_model),\n",
    "            self.logit\n",
    "        )\n",
    "\n",
    "    def forward(self, x):\n",
    "        x_embed = self.embedding(x)\n",
    "\n",
    "        for encoder in self.encoders:\n",
    "            x_embed = encoder(x_embed)\n",
    "\n",
    "        # segment merging (required for compatibility)\n",
    "        x_merged = self.seg_merge(x_embed)\n",
    "\n",
    "        logits = self.classifier(x_merged)\n",
    "        return logits\n"
   ]
  },
  {
   "cell_type": "code",
   "execution_count": 10,
   "id": "0519b59f-2244-4890-88b6-011477c0a0a2",
   "metadata": {},
   "outputs": [],
   "source": [
    "import warnings\n",
    "\n",
    "# Suppress warnings from PyTorch\n",
    "warnings.filterwarnings(\"ignore\", category=UserWarning)\n",
    "torch.set_printoptions(profile=\"default\")  # Prevent any potential printing-related warnings\n",
    "import logging\n",
    "logging.getLogger(\"pytorch_lightning.utilities.rank_zero\").setLevel(logging.WARNING)\n",
    "logging.getLogger(\"pytorch_lightning.accelerators.cuda\").setLevel(logging.WARNING)\n",
    "\n",
    "# Suppress TensorFlow logs\n",
    "os.environ['TF_CPP_MIN_LOG_LEVEL'] = '3'\n",
    "os.environ['TF_ENABLE_ONEDNN_OPTS'] = '0'\n",
    "\n",
    "# Suppress Python warnings\n",
    "warnings.filterwarnings(\"ignore\", category=FutureWarning)\n",
    "warnings.filterwarnings(\"ignore\", category=UserWarning)"
   ]
  },
  {
   "cell_type": "code",
   "execution_count": 11,
   "id": "c083603d-65c4-4828-9fba-65123028ec04",
   "metadata": {},
   "outputs": [],
   "source": [
    "model_type = 'Causal_Crossformer'"
   ]
  },
  {
   "cell_type": "code",
   "execution_count": 12,
   "id": "e78a3f23-22e8-407f-854b-3a31d2d83f13",
   "metadata": {},
   "outputs": [],
   "source": [
    "batch_size=1\n",
    "model_1 = EncoderOnlyCrossFormer(seg_len=1, d_model=36, num_classes=2, num_layers=1, win_size=1, n_heads=2, d_ff=16, e_blocks=1)"
   ]
  },
  {
   "cell_type": "code",
   "execution_count": 13,
   "id": "d40a9f3b-90c5-4a5e-8e54-99145a7b3ff5",
   "metadata": {},
   "outputs": [],
   "source": [
    "# model_path_1 = 'circ_crossformer/testing_Crossformer_Circ_seed_0/model_epoch_40.pth' #model 1\n",
    "model_path_1 = 'circ_crossformer/circ_best_model/model-causal-circ/model-causal.torch' ## causal model"
   ]
  },
  {
   "cell_type": "code",
   "execution_count": 14,
   "id": "e1b264ef-1581-4806-b94b-ee0820fde940",
   "metadata": {},
   "outputs": [],
   "source": [
    "temp_model = torch.load(model_path_1)\n",
    "# Extract the model state dictionary\n",
    "model_state_dict = temp_model['model']"
   ]
  },
  {
   "cell_type": "code",
   "execution_count": 15,
   "id": "f4b3058e-cd18-4a93-8cfd-7ddcd20e0034",
   "metadata": {},
   "outputs": [
    {
     "data": {
      "text/plain": [
       "<All keys matched successfully>"
      ]
     },
     "execution_count": 15,
     "metadata": {},
     "output_type": "execute_result"
    }
   ],
   "source": [
    "# Load the state dictionary into the model\n",
    "model_1.load_state_dict(model_state_dict)"
   ]
  },
  {
   "cell_type": "code",
   "execution_count": 16,
   "id": "b29cbab3-4991-4076-8637-7006f4051b9e",
   "metadata": {},
   "outputs": [],
   "source": [
    "model1 = model_1.cuda()"
   ]
  },
  {
   "cell_type": "code",
   "execution_count": 17,
   "id": "29aaedd8-5ae0-4062-a342-0e0cdd299532",
   "metadata": {},
   "outputs": [
    {
     "name": "stdout",
     "output_type": "stream",
     "text": [
      "28762\n"
     ]
    }
   ],
   "source": [
    "total_params = sum(p.numel() for p in model_1.parameters())\n",
    "print(total_params)"
   ]
  },
  {
   "cell_type": "markdown",
   "id": "4ea4b567-1905-413d-ad98-f51f9b5f1ec9",
   "metadata": {},
   "source": [
    "## load data"
   ]
  },
  {
   "cell_type": "code",
   "execution_count": 67,
   "id": "a2cbaf8c-5126-4ccd-b738-77c6283d6799",
   "metadata": {},
   "outputs": [],
   "source": [
    "# temp = np.load('circ_crossformer/circ_data_tensors/data_1605_best.npy')\n",
    "temp = np.load('circ_crossformer/circ_data_tensors/data_3737_best.npy')"
   ]
  },
  {
   "cell_type": "code",
   "execution_count": 68,
   "id": "8a5180f1-3624-440f-9264-936a8d495e1e",
   "metadata": {},
   "outputs": [],
   "source": [
    "tmp0 = torch.tensor(temp)"
   ]
  },
  {
   "cell_type": "code",
   "execution_count": 69,
   "id": "5a25ad92-d242-4a14-9097-89cefbf96a08",
   "metadata": {},
   "outputs": [
    {
     "data": {
      "text/plain": [
       "torch.Size([1, 2016, 231])"
      ]
     },
     "execution_count": 69,
     "metadata": {},
     "output_type": "execute_result"
    }
   ],
   "source": [
    "tmp0.shape"
   ]
  },
  {
   "cell_type": "code",
   "execution_count": 70,
   "id": "a8c52686-871f-4bb7-af1b-5401fc1996c2",
   "metadata": {},
   "outputs": [],
   "source": [
    "exp = DynaMask(model_1)"
   ]
  },
  {
   "cell_type": "code",
   "execution_count": 71,
   "id": "886af888-1e41-4eb2-ad7e-35ba2973419b",
   "metadata": {},
   "outputs": [
    {
     "data": {
      "application/vnd.jupyter.widget-view+json": {
       "model_id": "a0af1b46df894f96a04d98cc3716c872",
       "version_major": 2,
       "version_minor": 0
      },
      "text/plain": [
       "Training: |                                                                                                   …"
      ]
     },
     "metadata": {},
     "output_type": "display_data"
    },
    {
     "data": {
      "application/vnd.jupyter.widget-view+json": {
       "model_id": "eeac375cd4074c9da3035bc23e82cc4a",
       "version_major": 2,
       "version_minor": 0
      },
      "text/plain": [
       "Predicting: |                                                                                                 …"
      ]
     },
     "metadata": {},
     "output_type": "display_data"
    }
   ],
   "source": [
    "attr = exp.attribute(tmp0)"
   ]
  },
  {
   "cell_type": "code",
   "execution_count": 72,
   "id": "c8b09ef2-83b9-4861-9fe7-83e6064a6e17",
   "metadata": {},
   "outputs": [
    {
     "data": {
      "text/plain": [
       "tensor([[[0.0000, 1.0000, 1.0000,  ..., 0.0944, 0.6214, 0.5000],\n",
       "         [0.0000, 0.0000, 0.0000,  ..., 0.0374, 0.7039, 0.5000],\n",
       "         [0.0000, 0.0000, 0.0000,  ..., 0.0059, 0.9186, 0.5000],\n",
       "         ...,\n",
       "         [0.7392, 0.5138, 0.8183,  ..., 0.3912, 0.7333, 0.5000],\n",
       "         [0.7299, 0.4125, 0.7874,  ..., 0.5940, 0.7303, 0.5000],\n",
       "         [0.7616, 0.8210, 0.8296,  ..., 0.8271, 0.7416, 0.5000]]])"
      ]
     },
     "execution_count": 72,
     "metadata": {},
     "output_type": "execute_result"
    }
   ],
   "source": [
    "attr"
   ]
  },
  {
   "cell_type": "code",
   "execution_count": 64,
   "id": "76418bd2-61ec-44f1-9736-ff59edeb6c6f",
   "metadata": {},
   "outputs": [
    {
     "data": {
      "text/plain": [
       "torch.Size([1, 2016, 231])"
      ]
     },
     "execution_count": 64,
     "metadata": {},
     "output_type": "execute_result"
    }
   ],
   "source": [
    "attr.shape"
   ]
  },
  {
   "cell_type": "code",
   "execution_count": 73,
   "id": "cbc6e582-1066-45c3-bdf1-cce1653ecbe9",
   "metadata": {},
   "outputs": [],
   "source": [
    "attr_np = attr.detach().cpu().numpy()"
   ]
  },
  {
   "cell_type": "code",
   "execution_count": 74,
   "id": "da6b5b46-6103-4df3-8aa1-3facf8d26dcd",
   "metadata": {},
   "outputs": [],
   "source": [
    "# torch.save(attr, 'attr_dynamask_causal_crossformer.pt')\n",
    "# np.save('attr_dynamask_causal_crossformer_pid1605.npy',attr_np)\n",
    "# np.save('attr_dynamask_causal_crossformer_pid3737.npy',attr_np)"
   ]
  },
  {
   "cell_type": "code",
   "execution_count": 75,
   "id": "012e3a48-a862-4dd5-883c-cb40bb39cb0a",
   "metadata": {},
   "outputs": [],
   "source": [
    "import matplotlib.pyplot as plt"
   ]
  },
  {
   "cell_type": "code",
   "execution_count": 76,
   "id": "69be4c79-61e1-4790-b795-813d8725d03a",
   "metadata": {},
   "outputs": [],
   "source": [
    "import cmcrameri.cm as cmc"
   ]
  },
  {
   "cell_type": "code",
   "execution_count": 77,
   "id": "a27fefbb-69c7-44c2-bf0d-5c7709fde9ca",
   "metadata": {},
   "outputs": [],
   "source": [
    "data0_np = tmp0.numpy().squeeze()"
   ]
  },
  {
   "cell_type": "code",
   "execution_count": 78,
   "id": "838aae99-2dfe-4499-89cf-d2c694207b7f",
   "metadata": {},
   "outputs": [],
   "source": [
    "# Calculate row-wise min and max\n",
    "row_min = data0_np.min(axis=0, keepdims=True)\n",
    "row_max = data0_np.max(axis=0, keepdims=True)\n",
    "\n",
    "col_range = (row_max - row_min)\n",
    "\n",
    "col_range[col_range == 0] = 1  # Set range to 1 for constant columns to avoid division by zero\n",
    "\n",
    "\n",
    "# Normalize each row to 0-1\n",
    "data0_np_rownorm = (data0_np - row_min) / col_range"
   ]
  },
  {
   "cell_type": "code",
   "execution_count": 80,
   "id": "1785ad79-63c4-4be6-902b-e1bd0191305c",
   "metadata": {},
   "outputs": [],
   "source": [
    "## load labels\n",
    "label_path   = \"circ_crossformer/circ_data_tensors/Circ_test_label.pt\"\n",
    "label_tensor = torch.load(label_path)  # This loads the tensor into CPU memory\n",
    "# index=1605\n",
    "index=3737\n",
    "label0_np= label_tensor[index:index+1].numpy().squeeze()"
   ]
  },
  {
   "cell_type": "code",
   "execution_count": 81,
   "id": "fe976b93-4b5b-4f04-aec9-4a578a08b39b",
   "metadata": {},
   "outputs": [],
   "source": [
    "label0_np_flat = label0_np.reshape(-1,1)\n",
    "labels_binary = np.where(label0_np_flat == -1, 0, label0_np_flat)\n",
    "shift_steps = 144  # (12 * 60) / 5"
   ]
  },
  {
   "cell_type": "code",
   "execution_count": 82,
   "id": "16186e33-540c-4623-abbc-33919dba8b02",
   "metadata": {},
   "outputs": [],
   "source": [
    "labels_shifted = np.zeros_like(labels_binary)\n",
    "\n",
    "# Perform the forward shift\n",
    "labels_shifted[shift_steps:] = labels_binary[:-shift_steps]"
   ]
  },
  {
   "cell_type": "code",
   "execution_count": 83,
   "id": "3626b422-1a69-4041-ac00-631d7c459e0e",
   "metadata": {},
   "outputs": [],
   "source": [
    "labels_shifted_flat = labels_shifted.flatten()"
   ]
  },
  {
   "cell_type": "code",
   "execution_count": 84,
   "id": "bc9eea04-1a41-4dad-bb55-3a36a9432032",
   "metadata": {},
   "outputs": [],
   "source": [
    "# Find the indices where 1s start and end\n",
    "starts = np.where(np.diff(np.concatenate(([0], labels_shifted_flat))) == 1)[0]  # Start of chunks\n",
    "ends = np.where(np.diff(np.concatenate((labels_shifted_flat, [0]))) == -1)[0]  # End of chunks"
   ]
  },
  {
   "cell_type": "markdown",
   "id": "7df2f782-e530-40ac-8bfb-760bf1307340",
   "metadata": {},
   "source": [
    "## VAriance filter"
   ]
  },
  {
   "cell_type": "code",
   "execution_count": 85,
   "id": "5abfee70-ae90-4b21-a471-90f2145857a2",
   "metadata": {},
   "outputs": [],
   "source": [
    "# Remove flat features (features with zero variance)\n",
    "# non_flat_features = np.var(data0_np_rownorm, axis=0) > 0.05  # Compute variance along the time axis\n",
    "\n",
    "variances = np.var(data0_np_rownorm, axis=0)\n",
    "\n",
    "# Dynamic threshold based on the 10th percentile\n",
    "var_thr = np.percentile(variances, 90)\n",
    "\n",
    "non_flat_features = np.var(data0_np_rownorm, axis=0) > var_thr  # Compute variance along the time axis\n",
    "\n",
    "\n",
    "data0_np_rownorm_filter = data0_np_rownorm[:, non_flat_features.squeeze()]  # Filter non-flat features"
   ]
  },
  {
   "cell_type": "code",
   "execution_count": 86,
   "id": "e942ad87-83f2-45eb-9bbf-057533c76974",
   "metadata": {},
   "outputs": [
    {
     "data": {
      "text/plain": [
       "(2016, 22)"
      ]
     },
     "execution_count": 86,
     "metadata": {},
     "output_type": "execute_result"
    }
   ],
   "source": [
    "data0_np_rownorm_filter.shape"
   ]
  },
  {
   "cell_type": "code",
   "execution_count": 87,
   "id": "2131b85e-9fbe-4cc6-a8ee-2ec2136352f0",
   "metadata": {},
   "outputs": [],
   "source": [
    "xticks = np.concatenate((starts, ends))\n",
    "xtick_labels = [str(x) for x in xticks]"
   ]
  },
  {
   "cell_type": "code",
   "execution_count": 88,
   "id": "2713ac48-a586-49a3-b819-3ea87a59488a",
   "metadata": {},
   "outputs": [],
   "source": [
    "# Define the colormap using matplotlib's ListedColormap\n",
    "custom_cmap = ListedColormap(['#b5b5b5', '#000000']) "
   ]
  },
  {
   "cell_type": "code",
   "execution_count": 90,
   "id": "cffde936-d27b-436c-ac8d-4b651b970d95",
   "metadata": {},
   "outputs": [
    {
     "data": {
      "image/png": "[encoded data removed]",
      "text/plain": [
       "<Figure size 1000x250 with 3 Axes>"
      ]
     },
     "metadata": {},
     "output_type": "display_data"
    }
   ],
   "source": [
    "# Create the plot with subplots\n",
    "fig, ax = plt.subplots(2, 1, figsize=(10, 2.5), gridspec_kw={'height_ratios': [0.2,1]}, \n",
    "                       sharex=False,\n",
    "                        layout='constrained'\n",
    "                      )  # 1 row, 2 columns for subplots\n",
    "\n",
    "# Subplot 1: Original heatmap\n",
    "# im0 = ax[0].imshow(labels_shifted.T, cmap='binary', aspect='auto', interpolation='none')\n",
    "im0 = ax[0].imshow(labels_shifted.T, cmap=custom_cmap, aspect='auto', interpolation='none')\n",
    "color_map = {0: '#b5b5b5', 1: '#000000'}\n",
    "colors = np.vectorize(color_map.get)(labels_shifted)\n",
    "# Bar plot adjusted to match the width of the plot below\n",
    "legend_labels = {0: \"Normal\", 1: \"Failure\"}\n",
    "legend_handles = [Patch(color=color, label=legend_labels[label]) for label, color in color_map.items()]\n",
    "# ax[0].set_title(\"Circulatory Failure Example\")\n",
    "# ax[0].set_xlabel(\"Timesteps (5 min intervals)\")\n",
    "ax[0].set_ylabel(\"Patient State\", rotation=0, \n",
    "                 # labelpad=30\n",
    "                )\n",
    "ax[0].yaxis.set_label_coords(-0.05, 0.15)  # Adjust x and y positions\n",
    "ax[0].spines['top'].set_visible(False)\n",
    "ax[0].spines['bottom'].set_visible(False)\n",
    "ax[0].spines['left'].set_visible(False)\n",
    "ax[0].spines['right'].set_visible(False)\n",
    "ax[0].set_yticks([])  # Remove y-axis labels\n",
    "# ax[0].axis('off')\n",
    "ax[0].legend(handles=legend_handles, loc='right', title=\"\",\n",
    "              # bbox_to_anchor=(1.15, 0.75),\n",
    "              bbox_to_anchor=(1.15, 1.0),\n",
    "              # ncol=len(legend_handles),\n",
    "              ncol=1,             \n",
    "              # fontsize=12,\n",
    "              frameon=True,\n",
    "             )\n",
    "ax[0].set_xticks(xticks)\n",
    "ax[0].set_xticklabels(xtick_labels, fontsize=10,rotation=45)  # Increase font size\n",
    "ax[0].tick_params(axis='x', labeltop=True, labelbottom=False, top=True, bottom=False) \n",
    "\n",
    "\n",
    "# im1 = ax[1].imshow(data0_np_rownorm_filter.T, cmap='cividis', aspect='auto', interpolation='none')\n",
    "im1 = ax[1].imshow(data0_np_rownorm_filter.T, cmap='cividis', aspect='auto', interpolation='none')\n",
    "fig.colorbar(im1, ax=ax[1], \n",
    "             location = 'right',\n",
    "             orientation='vertical',\n",
    "             fraction=0.9,\n",
    "             # aspect=2,\n",
    "             pad=-0.1,\n",
    "             # bbox_to_anchor=(0.1,0,1,1),\n",
    "             # shrink=0.5,\n",
    "             # anchor=(0, 0.5)\n",
    "            )\n",
    "# ax[1].set_title(\"Dataset\")\n",
    "ax[1].set_xlabel(\"Timesteps (5 min intervals)\")\n",
    "ax[1].set_ylabel(\"Features\", rotation=0, \n",
    "                 # labelpad=25\n",
    "                )\n",
    "ax[1].yaxis.set_label_coords(-0.04, 0.35)  # Adjust x and y positions\n",
    "ax[1].spines['top'].set_visible(False)\n",
    "ax[1].spines['bottom'].set_visible(False)\n",
    "ax[1].spines['left'].set_visible(False)\n",
    "ax[1].spines['right'].set_visible(False)\n",
    "ax[1].set_yticks([])  # Remove y-axis labels\n",
    "# Add space between the subplots\n",
    "# plt.subplots_adjust(hspace=0.5)  # Adjust spacing between subplots\n",
    "\n",
    "# Add a title to the entire figure\n",
    "fig.suptitle(\"Circulatory Failure ICU Stay Example\")\n",
    "# fig.get_layout_engine().set(hspace=0.0, wspace=0)\n",
    "# Show the plot\n",
    "# plt.title(\"Circulatory Failure Example\")\n",
    "# plt.tight_layout(h_pad=1)\n",
    "plt.show()"
   ]
  },
  {
   "cell_type": "code",
   "execution_count": 91,
   "id": "e585640f-56fc-48f8-bd3e-b2c01b3076cd",
   "metadata": {},
   "outputs": [],
   "source": [
    "# Convert the tensor to a NumPy array\n",
    "attr_np = attr.numpy().squeeze()"
   ]
  },
  {
   "cell_type": "code",
   "execution_count": 92,
   "id": "8ed88f2b-b7a9-482b-86e5-4d6f3ca6a5cb",
   "metadata": {},
   "outputs": [
    {
     "data": {
      "text/plain": [
       "(2016, 231)"
      ]
     },
     "execution_count": 92,
     "metadata": {},
     "output_type": "execute_result"
    }
   ],
   "source": [
    "attr_np.shape"
   ]
  },
  {
   "cell_type": "code",
   "execution_count": 93,
   "id": "987d4236-599f-4876-b5ad-a9b46d820642",
   "metadata": {},
   "outputs": [],
   "source": [
    "attr_np_filtered = attr_np[:, non_flat_features.squeeze()]"
   ]
  },
  {
   "cell_type": "code",
   "execution_count": 94,
   "id": "c9e4048a-4f7e-486e-a618-c06e8f3e2df2",
   "metadata": {},
   "outputs": [
    {
     "data": {
      "text/plain": [
       "(2016, 22)"
      ]
     },
     "execution_count": 94,
     "metadata": {},
     "output_type": "execute_result"
    }
   ],
   "source": [
    "attr_np_filtered.shape"
   ]
  },
  {
   "cell_type": "code",
   "execution_count": 96,
   "id": "e4cd0a73-9de0-4fe9-a691-403908169029",
   "metadata": {},
   "outputs": [
    {
     "data": {
      "image/png": "[encoded data removed]",
      "text/plain": [
       "<Figure size 1000x350 with 6 Axes>"
      ]
     },
     "metadata": {},
     "output_type": "display_data"
    }
   ],
   "source": [
    "# Create the plot with subplots\n",
    "fig, ax = plt.subplots(3, 1, figsize=(10, 3.5), gridspec_kw={'height_ratios': [0.2,1,1]}, \n",
    "                       sharex=True,\n",
    "                        layout='constrained'\n",
    "                      )  # 1 row, 2 columns for subplots\n",
    "\n",
    "# Subplot 1: Original heatmap\n",
    "# im0 = ax[0].imshow(labels_shifted.T, cmap='binary', aspect='auto', interpolation='none')\n",
    "im0 = ax[0].imshow(labels_shifted.T, cmap=custom_cmap, aspect='auto', interpolation='none')\n",
    "color_map = {0: '#b5b5b5', 1: '#000000'}\n",
    "colors = np.vectorize(color_map.get)(labels_shifted)\n",
    "# Bar plot adjusted to match the width of the plot below\n",
    "legend_labels = {0: \"Normal\", 1: \"Failure\"}\n",
    "legend_handles = [Patch(color=color, label=legend_labels[label]) for label, color in color_map.items()]\n",
    "# ax[0].set_title(\"Circulatory Failure Example\")\n",
    "# ax[0].set_xlabel(\"Timesteps (5 min intervals)\")\n",
    "ax[0].set_ylabel(\"Patient State\", rotation=0, \n",
    "                 # labelpad=30\n",
    "                )\n",
    "ax[0].yaxis.set_label_coords(-0.05, 0.15)  # Adjust x and y positions\n",
    "ax[0].spines['top'].set_visible(False)\n",
    "ax[0].spines['bottom'].set_visible(False)\n",
    "ax[0].spines['left'].set_visible(False)\n",
    "ax[0].spines['right'].set_visible(False)\n",
    "ax[0].set_yticks([])  # Remove y-axis labels\n",
    "# ax[0].axis('off')\n",
    "ax[0].legend(handles=legend_handles, loc='right', title=\"\",\n",
    "              # bbox_to_anchor=(1.15, 0.75),\n",
    "              bbox_to_anchor=(1.15, 1.0),\n",
    "              # ncol=len(legend_handles),\n",
    "              ncol=1,             \n",
    "              # fontsize=12,\n",
    "              frameon=True,\n",
    "             )\n",
    "ax0_dup = ax[0].twiny()\n",
    "ax0_dup.set_xlim(ax[0].get_xlim()) \n",
    "# ax[0].set_xticks(xticks)\n",
    "# ax[0].set_xticklabels(xtick_labels, fontsize=10)  # Increase font size\n",
    "# ax[0].tick_params(axis='x', labeltop=True, labelbottom=False, top=True, bottom=False) \n",
    "ax0_dup.set_xticks(xticks)\n",
    "ax0_dup.set_xticklabels(xtick_labels, fontsize=10,rotation=45)  # Increase font size\n",
    "ax0_dup.tick_params(axis='x', labeltop=True, labelbottom=False, top=True, bottom=False) \n",
    "#######################################################################################################\n",
    "# im1 = ax[1].imshow(data0_np_rownorm_filter.T, cmap='cividis', aspect='auto', interpolation='none')\n",
    "im1 = ax[1].imshow(data0_np_rownorm_filter.T, cmap='cividis', aspect='auto', interpolation='none')\n",
    "fig.colorbar(im1, ax=ax[1], \n",
    "             location = 'right',\n",
    "             orientation='vertical',\n",
    "             fraction=0.9,\n",
    "             # aspect=2,\n",
    "             pad=-0.1,\n",
    "             # bbox_to_anchor=(0.1,0,1,1),\n",
    "             # shrink=0.5,\n",
    "             # anchor=(0, 0.5)\n",
    "            )\n",
    "# ax[1].set_title(\"Dataset\")\n",
    "# ax[1].set_xlabel(\"Timesteps (5 min intervals)\")\n",
    "ax[1].set_ylabel(\"Features\", rotation=0, \n",
    "                 # labelpad=25\n",
    "                )\n",
    "ax[1].yaxis.set_label_coords(-0.04, 0.35)  # Adjust x and y positions\n",
    "ax[1].spines['top'].set_visible(False)\n",
    "ax[1].spines['bottom'].set_visible(False)\n",
    "ax[1].spines['left'].set_visible(False)\n",
    "ax[1].spines['right'].set_visible(False)\n",
    "ax0_dup.spines['top'].set_visible(False)\n",
    "ax0_dup.spines['bottom'].set_visible(False)\n",
    "ax0_dup.spines['left'].set_visible(False)\n",
    "ax0_dup.spines['right'].set_visible(False)\n",
    "ax[1].set_yticks([])  # Remove y-axis labels\n",
    "\n",
    "\n",
    "##########################################################################################################\n",
    "# im1 = ax[1].imshow(data0_np_rownorm_filter.T, cmap='cividis', aspect='auto', interpolation='none')\n",
    "im2 = ax[2].imshow(attr_np_filtered.T, cmap=cmc.vik, aspect='auto', interpolation='none', vmax=1.0, vmin=0.0)\n",
    "fig.colorbar(im2, ax=ax[2], \n",
    "             location = 'right',\n",
    "             orientation='vertical',\n",
    "             fraction=0.9,\n",
    "             # aspect=2,\n",
    "             pad=-0.1,\n",
    "             # bbox_to_anchor=(0.1,0,1,1),\n",
    "             # shrink=0.5,\n",
    "             # anchor=(0, 0.5)\n",
    "            )\n",
    "# ax[1].set_title(\"Dataset\")\n",
    "ax[2].set_xlabel(\"Timesteps (5 min intervals)\")\n",
    "ax[2].set_ylabel(\"DynaMask \\n Attributions\", rotation=0, \n",
    "                 # labelpad=25\n",
    "                )\n",
    "ax[2].yaxis.set_label_coords(-0.05, 0.35)  # Adjust x and y positions\n",
    "ax[2].spines['top'].set_visible(False)\n",
    "ax[2].spines['bottom'].set_visible(False)\n",
    "ax[2].spines['left'].set_visible(False)\n",
    "ax[2].spines['right'].set_visible(False)\n",
    "ax[2].set_yticks([])  # Remove y-axis labels\n",
    "# ax[2].sharex(ax[1])\n",
    "# Add space between the subplots\n",
    "# plt.subplots_adjust(hspace=0.5)  # Adjust spacing between subplots\n",
    "\n",
    "# Add a title to the entire figure\n",
    "fig.suptitle(\"Circulatory Failure ICU Stay Example\")\n",
    "# fig.get_layout_engine().set(hspace=0.0, wspace=0)\n",
    "# Show the plot\n",
    "# plt.title(\"Circulatory Failure Example\")\n",
    "# plt.tight_layout(h_pad=1)\n",
    "plt.show()"
   ]
  },
  {
   "cell_type": "code",
   "execution_count": null,
   "id": "905fc6f3-40f2-448d-863d-e7c8311c662a",
   "metadata": {},
   "outputs": [],
   "source": []
  },
  {
   "cell_type": "code",
   "execution_count": null,
   "id": "98002420-6f64-48aa-8d97-4988acc5cf54",
   "metadata": {},
   "outputs": [],
   "source": []
  }
 ],
 "metadata": {
  "kernelspec": {
   "display_name": "Python 3 (ipykernel)",
   "language": "python",
   "name": "python3"
  },
  "language_info": {
   "codemirror_mode": {
    "name": "ipython",
    "version": 3
   },
   "file_extension": ".py",
   "mimetype": "text/x-python",
   "name": "python",
   "nbconvert_exporter": "python",
   "pygments_lexer": "ipython3",
   "version": "3.9.20"
  }
 },
 "nbformat": 4,
 "nbformat_minor": 5
}
